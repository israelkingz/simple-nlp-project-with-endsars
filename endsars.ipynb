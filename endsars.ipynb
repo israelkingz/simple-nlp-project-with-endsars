{
 "cells": [
  {
   "cell_type": "code",
   "execution_count": 1,
   "metadata": {},
   "outputs": [],
   "source": [
    "# load required libraries\n",
    "import numpy as np\n",
    "import pandas as pd\n",
    "import seaborn as sns \n",
    "import matplotlib.pyplot as plt"
   ]
  },
  {
   "cell_type": "code",
   "execution_count": 2,
   "metadata": {},
   "outputs": [],
   "source": [
    "df = pd.read_excel('ProSars.xlsx')"
   ]
  },
  {
   "cell_type": "code",
   "execution_count": 3,
   "metadata": {},
   "outputs": [
    {
     "data": {
      "text/html": [
       "<div>\n",
       "<style scoped>\n",
       "    .dataframe tbody tr th:only-of-type {\n",
       "        vertical-align: middle;\n",
       "    }\n",
       "\n",
       "    .dataframe tbody tr th {\n",
       "        vertical-align: top;\n",
       "    }\n",
       "\n",
       "    .dataframe thead th {\n",
       "        text-align: right;\n",
       "    }\n",
       "</style>\n",
       "<table border=\"1\" class=\"dataframe\">\n",
       "  <thead>\n",
       "    <tr style=\"text-align: right;\">\n",
       "      <th></th>\n",
       "      <th>Tweet</th>\n",
       "      <th>Tweet ID</th>\n",
       "      <th>Time</th>\n",
       "      <th>Favorited</th>\n",
       "      <th>Retweeted</th>\n",
       "      <th>Is Favourited</th>\n",
       "      <th>Is Retweeted</th>\n",
       "      <th>Is Retweet</th>\n",
       "      <th>Retweet from</th>\n",
       "      <th>Latitude</th>\n",
       "      <th>...</th>\n",
       "      <th>User - Description</th>\n",
       "      <th>User - URL</th>\n",
       "      <th>User - Creation time</th>\n",
       "      <th>User - Language</th>\n",
       "      <th>User - Location</th>\n",
       "      <th>User - Time Zone</th>\n",
       "      <th>User - Statuses</th>\n",
       "      <th>User - Followers</th>\n",
       "      <th>User - Friends</th>\n",
       "      <th>User - Favourites</th>\n",
       "    </tr>\n",
       "  </thead>\n",
       "  <tbody>\n",
       "    <tr>\n",
       "      <td>0</td>\n",
       "      <td>The implication of the police establishment sp...</td>\n",
       "      <td>1315047830566907904</td>\n",
       "      <td>2020-10-10 22:53:29</td>\n",
       "      <td>822</td>\n",
       "      <td>875</td>\n",
       "      <td>0</td>\n",
       "      <td>0</td>\n",
       "      <td>0</td>\n",
       "      <td>NaN</td>\n",
       "      <td>NaN</td>\n",
       "      <td>...</td>\n",
       "      <td>I’m not your stereotype, and that’s the caveat...</td>\n",
       "      <td>NaN</td>\n",
       "      <td>2009-08-09 10:18:56</td>\n",
       "      <td>NaN</td>\n",
       "      <td>Social Distancing</td>\n",
       "      <td>NaN</td>\n",
       "      <td>71704</td>\n",
       "      <td>135204</td>\n",
       "      <td>1386</td>\n",
       "      <td>2787</td>\n",
       "    </tr>\n",
       "    <tr>\n",
       "      <td>1</td>\n",
       "      <td>Kindly tell your loved ones to boycott any #Pr...</td>\n",
       "      <td>1315045989313585152</td>\n",
       "      <td>2020-10-10 22:46:10</td>\n",
       "      <td>1398</td>\n",
       "      <td>1591</td>\n",
       "      <td>0</td>\n",
       "      <td>0</td>\n",
       "      <td>0</td>\n",
       "      <td>NaN</td>\n",
       "      <td>NaN</td>\n",
       "      <td>...</td>\n",
       "      <td>I’m not your stereotype, and that’s the caveat...</td>\n",
       "      <td>NaN</td>\n",
       "      <td>2009-08-09 10:18:56</td>\n",
       "      <td>NaN</td>\n",
       "      <td>Social Distancing</td>\n",
       "      <td>NaN</td>\n",
       "      <td>71704</td>\n",
       "      <td>135204</td>\n",
       "      <td>1386</td>\n",
       "      <td>2787</td>\n",
       "    </tr>\n",
       "    <tr>\n",
       "      <td>2</td>\n",
       "      <td>RT @Habibgajam: Plans are underway for #ProSAR...</td>\n",
       "      <td>1315098403966050304</td>\n",
       "      <td>2020-10-11 02:14:27</td>\n",
       "      <td>0</td>\n",
       "      <td>1108</td>\n",
       "      <td>0</td>\n",
       "      <td>0</td>\n",
       "      <td>1</td>\n",
       "      <td>Habibgajam</td>\n",
       "      <td>NaN</td>\n",
       "      <td>...</td>\n",
       "      <td>Maldivian Illustrator &amp; artivist. Angry Inters...</td>\n",
       "      <td>https://t.co/W9kb7UOEv1</td>\n",
       "      <td>2017-06-11 05:48:14</td>\n",
       "      <td>NaN</td>\n",
       "      <td>Maldives</td>\n",
       "      <td>NaN</td>\n",
       "      <td>69864</td>\n",
       "      <td>8875</td>\n",
       "      <td>3785</td>\n",
       "      <td>127448</td>\n",
       "    </tr>\n",
       "    <tr>\n",
       "      <td>3</td>\n",
       "      <td>RT @Oizaa_: Report any #ProSars tweet on your ...</td>\n",
       "      <td>1315098403249020928</td>\n",
       "      <td>2020-10-11 02:14:27</td>\n",
       "      <td>0</td>\n",
       "      <td>19</td>\n",
       "      <td>0</td>\n",
       "      <td>0</td>\n",
       "      <td>1</td>\n",
       "      <td>Oizaa_</td>\n",
       "      <td>NaN</td>\n",
       "      <td>...</td>\n",
       "      <td>Good Vibes only||\\nFitness addict</td>\n",
       "      <td>NaN</td>\n",
       "      <td>2018-02-03 20:54:13</td>\n",
       "      <td>NaN</td>\n",
       "      <td>Lagos, Nigeria</td>\n",
       "      <td>NaN</td>\n",
       "      <td>3455</td>\n",
       "      <td>951</td>\n",
       "      <td>1271</td>\n",
       "      <td>3398</td>\n",
       "    </tr>\n",
       "    <tr>\n",
       "      <td>4</td>\n",
       "      <td>RT @mrmacccaroni: Instead of the govt to #EndS...</td>\n",
       "      <td>1315098388443074560</td>\n",
       "      <td>2020-10-11 02:14:23</td>\n",
       "      <td>0</td>\n",
       "      <td>403</td>\n",
       "      <td>0</td>\n",
       "      <td>0</td>\n",
       "      <td>1</td>\n",
       "      <td>mrmacccaroni</td>\n",
       "      <td>NaN</td>\n",
       "      <td>...</td>\n",
       "      <td>🌃Personal vlog..\\n🌃Twitter Influencer..Hit dah...</td>\n",
       "      <td>https://t.co/wCE6HFuQ9K</td>\n",
       "      <td>2019-11-22 16:50:01</td>\n",
       "      <td>NaN</td>\n",
       "      <td>Abia state</td>\n",
       "      <td>NaN</td>\n",
       "      <td>1072</td>\n",
       "      <td>245</td>\n",
       "      <td>130</td>\n",
       "      <td>4406</td>\n",
       "    </tr>\n",
       "  </tbody>\n",
       "</table>\n",
       "<p>5 rows × 25 columns</p>\n",
       "</div>"
      ],
      "text/plain": [
       "                                               Tweet             Tweet ID  \\\n",
       "0  The implication of the police establishment sp...  1315047830566907904   \n",
       "1  Kindly tell your loved ones to boycott any #Pr...  1315045989313585152   \n",
       "2  RT @Habibgajam: Plans are underway for #ProSAR...  1315098403966050304   \n",
       "3  RT @Oizaa_: Report any #ProSars tweet on your ...  1315098403249020928   \n",
       "4  RT @mrmacccaroni: Instead of the govt to #EndS...  1315098388443074560   \n",
       "\n",
       "                  Time  Favorited  Retweeted  Is Favourited  Is Retweeted  \\\n",
       "0  2020-10-10 22:53:29        822        875              0             0   \n",
       "1  2020-10-10 22:46:10       1398       1591              0             0   \n",
       "2  2020-10-11 02:14:27          0       1108              0             0   \n",
       "3  2020-10-11 02:14:27          0         19              0             0   \n",
       "4  2020-10-11 02:14:23          0        403              0             0   \n",
       "\n",
       "   Is Retweet  Retweet from  Latitude  ...  \\\n",
       "0           0           NaN       NaN  ...   \n",
       "1           0           NaN       NaN  ...   \n",
       "2           1    Habibgajam       NaN  ...   \n",
       "3           1        Oizaa_       NaN  ...   \n",
       "4           1  mrmacccaroni       NaN  ...   \n",
       "\n",
       "                                  User - Description               User - URL  \\\n",
       "0  I’m not your stereotype, and that’s the caveat...                      NaN   \n",
       "1  I’m not your stereotype, and that’s the caveat...                      NaN   \n",
       "2  Maldivian Illustrator & artivist. Angry Inters...  https://t.co/W9kb7UOEv1   \n",
       "3                  Good Vibes only||\\nFitness addict                      NaN   \n",
       "4  🌃Personal vlog..\\n🌃Twitter Influencer..Hit dah...  https://t.co/wCE6HFuQ9K   \n",
       "\n",
       "  User - Creation time User - Language     User - Location User - Time Zone  \\\n",
       "0  2009-08-09 10:18:56             NaN  Social Distancing               NaN   \n",
       "1  2009-08-09 10:18:56             NaN  Social Distancing               NaN   \n",
       "2  2017-06-11 05:48:14             NaN            Maldives              NaN   \n",
       "3  2018-02-03 20:54:13             NaN      Lagos, Nigeria              NaN   \n",
       "4  2019-11-22 16:50:01             NaN          Abia state              NaN   \n",
       "\n",
       "  User - Statuses User - Followers  User - Friends User - Favourites  \n",
       "0           71704           135204            1386              2787  \n",
       "1           71704           135204            1386              2787  \n",
       "2           69864             8875            3785            127448  \n",
       "3            3455              951            1271              3398  \n",
       "4            1072              245             130              4406  \n",
       "\n",
       "[5 rows x 25 columns]"
      ]
     },
     "execution_count": 3,
     "metadata": {},
     "output_type": "execute_result"
    }
   ],
   "source": [
    "df.head()"
   ]
  },
  {
   "cell_type": "code",
   "execution_count": 4,
   "metadata": {},
   "outputs": [
    {
     "data": {
      "text/plain": [
       "(236, 25)"
      ]
     },
     "execution_count": 4,
     "metadata": {},
     "output_type": "execute_result"
    }
   ],
   "source": [
    "df.shape"
   ]
  },
  {
   "cell_type": "code",
   "execution_count": 5,
   "metadata": {},
   "outputs": [
    {
     "name": "stdout",
     "output_type": "stream",
     "text": [
      "<class 'pandas.core.frame.DataFrame'>\n",
      "RangeIndex: 236 entries, 0 to 235\n",
      "Data columns (total 25 columns):\n",
      "Tweet                   236 non-null object\n",
      "Tweet ID                236 non-null int64\n",
      "Time                    236 non-null object\n",
      "Favorited               236 non-null int64\n",
      "Retweeted               236 non-null int64\n",
      "Is Favourited           236 non-null int64\n",
      "Is Retweeted            236 non-null int64\n",
      "Is Retweet              236 non-null int64\n",
      "Retweet from            210 non-null object\n",
      "Latitude                0 non-null float64\n",
      "Longitude               0 non-null float64\n",
      "Country                 1 non-null object\n",
      "User                    236 non-null object\n",
      "User - Name             236 non-null object\n",
      "User - ID               236 non-null int64\n",
      "User - Description      214 non-null object\n",
      "User - URL              51 non-null object\n",
      "User - Creation time    236 non-null object\n",
      "User - Language         0 non-null float64\n",
      "User - Location         179 non-null object\n",
      "User - Time Zone        0 non-null float64\n",
      "User - Statuses         236 non-null int64\n",
      "User - Followers        236 non-null int64\n",
      "User - Friends          236 non-null int64\n",
      "User - Favourites       236 non-null int64\n",
      "dtypes: float64(4), int64(11), object(10)\n",
      "memory usage: 46.2+ KB\n"
     ]
    }
   ],
   "source": [
    "df.info()"
   ]
  },
  {
   "cell_type": "code",
   "execution_count": 6,
   "metadata": {},
   "outputs": [
    {
     "data": {
      "text/plain": [
       "Tweet                     0\n",
       "Tweet ID                  0\n",
       "Time                      0\n",
       "Favorited                 0\n",
       "Retweeted                 0\n",
       "Is Favourited             0\n",
       "Is Retweeted              0\n",
       "Is Retweet                0\n",
       "Retweet from             26\n",
       "Latitude                236\n",
       "Longitude               236\n",
       "Country                 235\n",
       "User                      0\n",
       "User - Name               0\n",
       "User - ID                 0\n",
       "User - Description       22\n",
       "User - URL              185\n",
       "User - Creation time      0\n",
       "User - Language         236\n",
       "User - Location          57\n",
       "User - Time Zone        236\n",
       "User - Statuses           0\n",
       "User - Followers          0\n",
       "User - Friends            0\n",
       "User - Favourites         0\n",
       "dtype: int64"
      ]
     },
     "execution_count": 6,
     "metadata": {},
     "output_type": "execute_result"
    }
   ],
   "source": [
    "df.isnull().sum()"
   ]
  },
  {
   "cell_type": "code",
   "execution_count": 7,
   "metadata": {},
   "outputs": [
    {
     "data": {
      "text/html": [
       "<div>\n",
       "<style scoped>\n",
       "    .dataframe tbody tr th:only-of-type {\n",
       "        vertical-align: middle;\n",
       "    }\n",
       "\n",
       "    .dataframe tbody tr th {\n",
       "        vertical-align: top;\n",
       "    }\n",
       "\n",
       "    .dataframe thead th {\n",
       "        text-align: right;\n",
       "    }\n",
       "</style>\n",
       "<table border=\"1\" class=\"dataframe\">\n",
       "  <thead>\n",
       "    <tr style=\"text-align: right;\">\n",
       "      <th></th>\n",
       "      <th>Tweet</th>\n",
       "      <th>Tweet ID</th>\n",
       "      <th>Time</th>\n",
       "      <th>Favorited</th>\n",
       "      <th>Retweeted</th>\n",
       "      <th>Is Favourited</th>\n",
       "      <th>Is Retweeted</th>\n",
       "      <th>Is Retweet</th>\n",
       "      <th>Retweet from</th>\n",
       "      <th>Latitude</th>\n",
       "      <th>...</th>\n",
       "      <th>User - Description</th>\n",
       "      <th>User - URL</th>\n",
       "      <th>User - Creation time</th>\n",
       "      <th>User - Language</th>\n",
       "      <th>User - Location</th>\n",
       "      <th>User - Time Zone</th>\n",
       "      <th>User - Statuses</th>\n",
       "      <th>User - Followers</th>\n",
       "      <th>User - Friends</th>\n",
       "      <th>User - Favourites</th>\n",
       "    </tr>\n",
       "  </thead>\n",
       "  <tbody>\n",
       "    <tr>\n",
       "      <td>0</td>\n",
       "      <td>The implication of the police establishment sp...</td>\n",
       "      <td>1315047830566907904</td>\n",
       "      <td>2020-10-10 22:53:29</td>\n",
       "      <td>822</td>\n",
       "      <td>875</td>\n",
       "      <td>0</td>\n",
       "      <td>0</td>\n",
       "      <td>0</td>\n",
       "      <td>-999</td>\n",
       "      <td>-999</td>\n",
       "      <td>...</td>\n",
       "      <td>I’m not your stereotype, and that’s the caveat...</td>\n",
       "      <td>-999</td>\n",
       "      <td>2009-08-09 10:18:56</td>\n",
       "      <td>-999</td>\n",
       "      <td>Social Distancing</td>\n",
       "      <td>-999</td>\n",
       "      <td>71704</td>\n",
       "      <td>135204</td>\n",
       "      <td>1386</td>\n",
       "      <td>2787</td>\n",
       "    </tr>\n",
       "    <tr>\n",
       "      <td>1</td>\n",
       "      <td>Kindly tell your loved ones to boycott any #Pr...</td>\n",
       "      <td>1315045989313585152</td>\n",
       "      <td>2020-10-10 22:46:10</td>\n",
       "      <td>1398</td>\n",
       "      <td>1591</td>\n",
       "      <td>0</td>\n",
       "      <td>0</td>\n",
       "      <td>0</td>\n",
       "      <td>-999</td>\n",
       "      <td>-999</td>\n",
       "      <td>...</td>\n",
       "      <td>I’m not your stereotype, and that’s the caveat...</td>\n",
       "      <td>-999</td>\n",
       "      <td>2009-08-09 10:18:56</td>\n",
       "      <td>-999</td>\n",
       "      <td>Social Distancing</td>\n",
       "      <td>-999</td>\n",
       "      <td>71704</td>\n",
       "      <td>135204</td>\n",
       "      <td>1386</td>\n",
       "      <td>2787</td>\n",
       "    </tr>\n",
       "    <tr>\n",
       "      <td>2</td>\n",
       "      <td>RT @Habibgajam: Plans are underway for #ProSAR...</td>\n",
       "      <td>1315098403966050304</td>\n",
       "      <td>2020-10-11 02:14:27</td>\n",
       "      <td>0</td>\n",
       "      <td>1108</td>\n",
       "      <td>0</td>\n",
       "      <td>0</td>\n",
       "      <td>1</td>\n",
       "      <td>Habibgajam</td>\n",
       "      <td>-999</td>\n",
       "      <td>...</td>\n",
       "      <td>Maldivian Illustrator &amp; artivist. Angry Inters...</td>\n",
       "      <td>https://t.co/W9kb7UOEv1</td>\n",
       "      <td>2017-06-11 05:48:14</td>\n",
       "      <td>-999</td>\n",
       "      <td>Maldives</td>\n",
       "      <td>-999</td>\n",
       "      <td>69864</td>\n",
       "      <td>8875</td>\n",
       "      <td>3785</td>\n",
       "      <td>127448</td>\n",
       "    </tr>\n",
       "    <tr>\n",
       "      <td>3</td>\n",
       "      <td>RT @Oizaa_: Report any #ProSars tweet on your ...</td>\n",
       "      <td>1315098403249020928</td>\n",
       "      <td>2020-10-11 02:14:27</td>\n",
       "      <td>0</td>\n",
       "      <td>19</td>\n",
       "      <td>0</td>\n",
       "      <td>0</td>\n",
       "      <td>1</td>\n",
       "      <td>Oizaa_</td>\n",
       "      <td>-999</td>\n",
       "      <td>...</td>\n",
       "      <td>Good Vibes only||\\nFitness addict</td>\n",
       "      <td>-999</td>\n",
       "      <td>2018-02-03 20:54:13</td>\n",
       "      <td>-999</td>\n",
       "      <td>Lagos, Nigeria</td>\n",
       "      <td>-999</td>\n",
       "      <td>3455</td>\n",
       "      <td>951</td>\n",
       "      <td>1271</td>\n",
       "      <td>3398</td>\n",
       "    </tr>\n",
       "    <tr>\n",
       "      <td>4</td>\n",
       "      <td>RT @mrmacccaroni: Instead of the govt to #EndS...</td>\n",
       "      <td>1315098388443074560</td>\n",
       "      <td>2020-10-11 02:14:23</td>\n",
       "      <td>0</td>\n",
       "      <td>403</td>\n",
       "      <td>0</td>\n",
       "      <td>0</td>\n",
       "      <td>1</td>\n",
       "      <td>mrmacccaroni</td>\n",
       "      <td>-999</td>\n",
       "      <td>...</td>\n",
       "      <td>🌃Personal vlog..\\n🌃Twitter Influencer..Hit dah...</td>\n",
       "      <td>https://t.co/wCE6HFuQ9K</td>\n",
       "      <td>2019-11-22 16:50:01</td>\n",
       "      <td>-999</td>\n",
       "      <td>Abia state</td>\n",
       "      <td>-999</td>\n",
       "      <td>1072</td>\n",
       "      <td>245</td>\n",
       "      <td>130</td>\n",
       "      <td>4406</td>\n",
       "    </tr>\n",
       "    <tr>\n",
       "      <td>...</td>\n",
       "      <td>...</td>\n",
       "      <td>...</td>\n",
       "      <td>...</td>\n",
       "      <td>...</td>\n",
       "      <td>...</td>\n",
       "      <td>...</td>\n",
       "      <td>...</td>\n",
       "      <td>...</td>\n",
       "      <td>...</td>\n",
       "      <td>...</td>\n",
       "      <td>...</td>\n",
       "      <td>...</td>\n",
       "      <td>...</td>\n",
       "      <td>...</td>\n",
       "      <td>...</td>\n",
       "      <td>...</td>\n",
       "      <td>...</td>\n",
       "      <td>...</td>\n",
       "      <td>...</td>\n",
       "      <td>...</td>\n",
       "      <td>...</td>\n",
       "    </tr>\n",
       "    <tr>\n",
       "      <td>231</td>\n",
       "      <td>Why Are #EndSarsNow Protesters bullying ppl in...</td>\n",
       "      <td>1314613452950904832</td>\n",
       "      <td>2020-10-09 18:07:26</td>\n",
       "      <td>8</td>\n",
       "      <td>5</td>\n",
       "      <td>0</td>\n",
       "      <td>0</td>\n",
       "      <td>0</td>\n",
       "      <td>-999</td>\n",
       "      <td>-999</td>\n",
       "      <td>...</td>\n",
       "      <td>Parody ║Unherdable Non-Conformist║Hard-Truths ...</td>\n",
       "      <td>-999</td>\n",
       "      <td>2019-04-04 15:28:27</td>\n",
       "      <td>-999</td>\n",
       "      <td>in Your Mind.</td>\n",
       "      <td>-999</td>\n",
       "      <td>14058</td>\n",
       "      <td>9575</td>\n",
       "      <td>45</td>\n",
       "      <td>20524</td>\n",
       "    </tr>\n",
       "    <tr>\n",
       "      <td>232</td>\n",
       "      <td>@ChidiOdinkalu @PoliceNG The shallow thinking ...</td>\n",
       "      <td>1313533449777614848</td>\n",
       "      <td>2020-10-06 18:35:53</td>\n",
       "      <td>0</td>\n",
       "      <td>0</td>\n",
       "      <td>0</td>\n",
       "      <td>0</td>\n",
       "      <td>0</td>\n",
       "      <td>-999</td>\n",
       "      <td>-999</td>\n",
       "      <td>...</td>\n",
       "      <td>Blessed with heavenly wisdom, filled with His ...</td>\n",
       "      <td>-999</td>\n",
       "      <td>2019-05-23 11:01:59</td>\n",
       "      <td>-999</td>\n",
       "      <td>-999</td>\n",
       "      <td>-999</td>\n",
       "      <td>4215</td>\n",
       "      <td>1958</td>\n",
       "      <td>2347</td>\n",
       "      <td>35992</td>\n",
       "    </tr>\n",
       "    <tr>\n",
       "      <td>233</td>\n",
       "      <td>@lekanpaul @PoliceNG Shey you be #PROSARS . Yo...</td>\n",
       "      <td>1312870828812505088</td>\n",
       "      <td>2020-10-04 22:42:52</td>\n",
       "      <td>3</td>\n",
       "      <td>0</td>\n",
       "      <td>0</td>\n",
       "      <td>0</td>\n",
       "      <td>0</td>\n",
       "      <td>-999</td>\n",
       "      <td>-999</td>\n",
       "      <td>...</td>\n",
       "      <td>Bon vivant, ambivert, potential industrialist,...</td>\n",
       "      <td>-999</td>\n",
       "      <td>2011-01-18 13:59:31</td>\n",
       "      <td>-999</td>\n",
       "      <td>Lagos, Nigeria</td>\n",
       "      <td>-999</td>\n",
       "      <td>9116</td>\n",
       "      <td>572</td>\n",
       "      <td>731</td>\n",
       "      <td>6332</td>\n",
       "    </tr>\n",
       "    <tr>\n",
       "      <td>234</td>\n",
       "      <td>RT @efa101: Of you're an influencer or whateve...</td>\n",
       "      <td>1312727443988508672</td>\n",
       "      <td>2020-10-04 13:13:06</td>\n",
       "      <td>0</td>\n",
       "      <td>2</td>\n",
       "      <td>0</td>\n",
       "      <td>0</td>\n",
       "      <td>1</td>\n",
       "      <td>efa101</td>\n",
       "      <td>-999</td>\n",
       "      <td>...</td>\n",
       "      <td>-999</td>\n",
       "      <td>-999</td>\n",
       "      <td>2011-09-01 10:25:25</td>\n",
       "      <td>-999</td>\n",
       "      <td>Ajaokuta, Nigeria</td>\n",
       "      <td>-999</td>\n",
       "      <td>4550</td>\n",
       "      <td>109</td>\n",
       "      <td>202</td>\n",
       "      <td>10406</td>\n",
       "    </tr>\n",
       "    <tr>\n",
       "      <td>235</td>\n",
       "      <td>Of you're an influencer or whatever you tag yo...</td>\n",
       "      <td>1312677282025271296</td>\n",
       "      <td>2020-10-04 09:53:47</td>\n",
       "      <td>8</td>\n",
       "      <td>2</td>\n",
       "      <td>0</td>\n",
       "      <td>0</td>\n",
       "      <td>0</td>\n",
       "      <td>-999</td>\n",
       "      <td>-999</td>\n",
       "      <td>...</td>\n",
       "      <td>Husband | Father | Efik | Turbines | Engineer ...</td>\n",
       "      <td>-999</td>\n",
       "      <td>2009-08-07 14:30:19</td>\n",
       "      <td>-999</td>\n",
       "      <td>Abuja, Nigeria</td>\n",
       "      <td>-999</td>\n",
       "      <td>49735</td>\n",
       "      <td>2916</td>\n",
       "      <td>1993</td>\n",
       "      <td>3438</td>\n",
       "    </tr>\n",
       "  </tbody>\n",
       "</table>\n",
       "<p>236 rows × 25 columns</p>\n",
       "</div>"
      ],
      "text/plain": [
       "                                                 Tweet             Tweet ID  \\\n",
       "0    The implication of the police establishment sp...  1315047830566907904   \n",
       "1    Kindly tell your loved ones to boycott any #Pr...  1315045989313585152   \n",
       "2    RT @Habibgajam: Plans are underway for #ProSAR...  1315098403966050304   \n",
       "3    RT @Oizaa_: Report any #ProSars tweet on your ...  1315098403249020928   \n",
       "4    RT @mrmacccaroni: Instead of the govt to #EndS...  1315098388443074560   \n",
       "..                                                 ...                  ...   \n",
       "231  Why Are #EndSarsNow Protesters bullying ppl in...  1314613452950904832   \n",
       "232  @ChidiOdinkalu @PoliceNG The shallow thinking ...  1313533449777614848   \n",
       "233  @lekanpaul @PoliceNG Shey you be #PROSARS . Yo...  1312870828812505088   \n",
       "234  RT @efa101: Of you're an influencer or whateve...  1312727443988508672   \n",
       "235  Of you're an influencer or whatever you tag yo...  1312677282025271296   \n",
       "\n",
       "                    Time  Favorited  Retweeted  Is Favourited  Is Retweeted  \\\n",
       "0    2020-10-10 22:53:29        822        875              0             0   \n",
       "1    2020-10-10 22:46:10       1398       1591              0             0   \n",
       "2    2020-10-11 02:14:27          0       1108              0             0   \n",
       "3    2020-10-11 02:14:27          0         19              0             0   \n",
       "4    2020-10-11 02:14:23          0        403              0             0   \n",
       "..                   ...        ...        ...            ...           ...   \n",
       "231  2020-10-09 18:07:26          8          5              0             0   \n",
       "232  2020-10-06 18:35:53          0          0              0             0   \n",
       "233  2020-10-04 22:42:52          3          0              0             0   \n",
       "234  2020-10-04 13:13:06          0          2              0             0   \n",
       "235  2020-10-04 09:53:47          8          2              0             0   \n",
       "\n",
       "     Is Retweet  Retweet from Latitude  ...  \\\n",
       "0             0          -999     -999  ...   \n",
       "1             0          -999     -999  ...   \n",
       "2             1    Habibgajam     -999  ...   \n",
       "3             1        Oizaa_     -999  ...   \n",
       "4             1  mrmacccaroni     -999  ...   \n",
       "..          ...           ...      ...  ...   \n",
       "231           0          -999     -999  ...   \n",
       "232           0          -999     -999  ...   \n",
       "233           0          -999     -999  ...   \n",
       "234           1        efa101     -999  ...   \n",
       "235           0          -999     -999  ...   \n",
       "\n",
       "                                    User - Description  \\\n",
       "0    I’m not your stereotype, and that’s the caveat...   \n",
       "1    I’m not your stereotype, and that’s the caveat...   \n",
       "2    Maldivian Illustrator & artivist. Angry Inters...   \n",
       "3                    Good Vibes only||\\nFitness addict   \n",
       "4    🌃Personal vlog..\\n🌃Twitter Influencer..Hit dah...   \n",
       "..                                                 ...   \n",
       "231  Parody ║Unherdable Non-Conformist║Hard-Truths ...   \n",
       "232  Blessed with heavenly wisdom, filled with His ...   \n",
       "233  Bon vivant, ambivert, potential industrialist,...   \n",
       "234                                               -999   \n",
       "235  Husband | Father | Efik | Turbines | Engineer ...   \n",
       "\n",
       "                  User - URL User - Creation time User - Language  \\\n",
       "0                       -999  2009-08-09 10:18:56            -999   \n",
       "1                       -999  2009-08-09 10:18:56            -999   \n",
       "2    https://t.co/W9kb7UOEv1  2017-06-11 05:48:14            -999   \n",
       "3                       -999  2018-02-03 20:54:13            -999   \n",
       "4    https://t.co/wCE6HFuQ9K  2019-11-22 16:50:01            -999   \n",
       "..                       ...                  ...             ...   \n",
       "231                     -999  2019-04-04 15:28:27            -999   \n",
       "232                     -999  2019-05-23 11:01:59            -999   \n",
       "233                     -999  2011-01-18 13:59:31            -999   \n",
       "234                     -999  2011-09-01 10:25:25            -999   \n",
       "235                     -999  2009-08-07 14:30:19            -999   \n",
       "\n",
       "        User - Location User - Time Zone User - Statuses User - Followers  \\\n",
       "0    Social Distancing              -999           71704           135204   \n",
       "1    Social Distancing              -999           71704           135204   \n",
       "2              Maldives             -999           69864             8875   \n",
       "3        Lagos, Nigeria             -999            3455              951   \n",
       "4            Abia state             -999            1072              245   \n",
       "..                  ...              ...             ...              ...   \n",
       "231      in Your Mind.              -999           14058             9575   \n",
       "232                -999             -999            4215             1958   \n",
       "233      Lagos, Nigeria             -999            9116              572   \n",
       "234   Ajaokuta, Nigeria             -999            4550              109   \n",
       "235      Abuja, Nigeria             -999           49735             2916   \n",
       "\n",
       "    User - Friends User - Favourites  \n",
       "0             1386              2787  \n",
       "1             1386              2787  \n",
       "2             3785            127448  \n",
       "3             1271              3398  \n",
       "4              130              4406  \n",
       "..             ...               ...  \n",
       "231             45             20524  \n",
       "232           2347             35992  \n",
       "233            731              6332  \n",
       "234            202             10406  \n",
       "235           1993              3438  \n",
       "\n",
       "[236 rows x 25 columns]"
      ]
     },
     "execution_count": 7,
     "metadata": {},
     "output_type": "execute_result"
    }
   ],
   "source": [
    "df.fillna('-999', axis=1)"
   ]
  },
  {
   "cell_type": "code",
   "execution_count": 8,
   "metadata": {},
   "outputs": [
    {
     "data": {
      "text/plain": [
       "0    236\n",
       "Name: Is Retweeted, dtype: int64"
      ]
     },
     "execution_count": 8,
     "metadata": {},
     "output_type": "execute_result"
    }
   ],
   "source": [
    "df['Is Retweeted'].value_counts()   "
   ]
  },
  {
   "cell_type": "code",
   "execution_count": 9,
   "metadata": {},
   "outputs": [
    {
     "data": {
      "text/plain": [
       "0    236\n",
       "Name: Is Favourited, dtype: int64"
      ]
     },
     "execution_count": 9,
     "metadata": {},
     "output_type": "execute_result"
    }
   ],
   "source": [
    "df['Is Favourited'].value_counts()"
   ]
  },
  {
   "cell_type": "code",
   "execution_count": 10,
   "metadata": {},
   "outputs": [
    {
     "data": {
      "text/plain": [
       "1    210\n",
       "0     26\n",
       "Name: Is Retweet, dtype: int64"
      ]
     },
     "execution_count": 10,
     "metadata": {},
     "output_type": "execute_result"
    }
   ],
   "source": [
    "df['Is Retweet'].value_counts()"
   ]
  },
  {
   "cell_type": "code",
   "execution_count": 11,
   "metadata": {},
   "outputs": [],
   "source": [
    "features = df['Tweet']\n",
    "target = df['Is Retweet']"
   ]
  },
  {
   "cell_type": "code",
   "execution_count": 12,
   "metadata": {},
   "outputs": [
    {
     "data": {
      "text/plain": [
       "'RT @Oizaa_: Report any #ProSars tweet on your timeline. #EndSARS #EndSarsNow'"
      ]
     },
     "execution_count": 12,
     "metadata": {},
     "output_type": "execute_result"
    }
   ],
   "source": [
    "features[3]"
   ]
  },
  {
   "cell_type": "code",
   "execution_count": 13,
   "metadata": {},
   "outputs": [
    {
     "name": "stdout",
     "output_type": "stream",
     "text": [
      "[nltk_data] Downloading package wordnet to\n",
      "[nltk_data]     C:\\Users\\hp\\AppData\\Roaming\\nltk_data...\n",
      "[nltk_data]   Package wordnet is already up-to-date!\n"
     ]
    }
   ],
   "source": [
    "# import re library for regular expressions\n",
    "import re\n",
    "\n",
    "# import nltk library\n",
    "import nltk\n",
    "\n",
    "# import stopwords from nltk library\n",
    "from nltk.corpus import stopwords\n",
    "\n",
    "# download the stopwords and wordnet corpus\n",
    "nltk.download('wordnet')\n",
    "\n",
    "# extract the english stopwords and save it to a variable\n",
    "\n",
    "stopword =stopwords.words('english')\n",
    "# import word_tokenize from nltk library\n",
    "from nltk.tokenize import word_tokenize\n",
    "\n",
    "# import WordNetLemmatizer from nltk library\n",
    "from nltk.stem import WordNetLemmatizer\n",
    "\n",
    "# write a regular expression to identify urls in text\n",
    "url_regex = r'http[s]?://(?:[a-zA-Z]|[0-9]|[$-_@.&+]|[!*\\(\\),]|(?:%[0-9a-fA-F][0-9a-fA-F]))+'\n",
    "\n",
    "# write a regular expression to identify non-ascii characters in text\n",
    "non_ascii_regex = r'[^\\x00-\\x7F]+'\n",
    "\n",
    "# write a function to tokenize text after performing preprocessing \n",
    "def tokenize(text):\n",
    "    \n",
    "    # use library re to replace urls by token - urlplaceholder\n",
    "    text = re.sub(url_regex, 'urlplaceholder', text)\n",
    "    \n",
    "    # use library re to replace non ascii characters by a space\n",
    "    text = re.sub(non_ascii_regex, ' ', text)\n",
    "\n",
    "    # use word_tokenize to tokenize the sentences\n",
    "    \n",
    "    token = word_tokenize(text)\n",
    "    # instantiate an object of class WordNetLemmatizer\n",
    "    lemmatizer =WordNetLemmatizer()\n",
    "    \n",
    "    # use a list comprehension to lemmatize the tokens and remove the the stopwords\n",
    "    clean_token = [lemmatizer.lemmatize(word) for word in token if word not in stopword]\n",
    "        \n",
    "    \n",
    "\n",
    "    # return the tokens\n",
    "    return clean_token"
   ]
  },
  {
   "cell_type": "code",
   "execution_count": 14,
   "metadata": {},
   "outputs": [
    {
     "data": {
      "text/plain": [
       "<matplotlib.axes._subplots.AxesSubplot at 0x1eee517ef60>"
      ]
     },
     "execution_count": 14,
     "metadata": {},
     "output_type": "execute_result"
    },
    {
     "data": {
      "image/png": "[encoded data removed]",
      "text/plain": [
       "<Figure size 1152x576 with 1 Axes>"
      ]
     },
     "metadata": {
      "needs_background": "light"
     },
     "output_type": "display_data"
    }
   ],
   "source": [
    "# create a new column in the original dataset - 'length' to capture length of each text\n",
    "df['length'] = df['Tweet'].apply(lambda x: len(word_tokenize(x)))\n",
    "# use seaborn boxplot to visualize the pattern in length for each category\n",
    "fig = plt.figure(figsize= (16,8))\n",
    "\n",
    "sns.boxplot(x='Is Retweet', y='length', data=df)"
   ]
  },
  {
   "cell_type": "code",
   "execution_count": 15,
   "metadata": {},
   "outputs": [
    {
     "data": {
      "text/html": [
       "<div>\n",
       "<style scoped>\n",
       "    .dataframe tbody tr th:only-of-type {\n",
       "        vertical-align: middle;\n",
       "    }\n",
       "\n",
       "    .dataframe tbody tr th {\n",
       "        vertical-align: top;\n",
       "    }\n",
       "\n",
       "    .dataframe thead th {\n",
       "        text-align: right;\n",
       "    }\n",
       "</style>\n",
       "<table border=\"1\" class=\"dataframe\">\n",
       "  <thead>\n",
       "    <tr style=\"text-align: right;\">\n",
       "      <th>url_count</th>\n",
       "      <th>0</th>\n",
       "      <th>1</th>\n",
       "      <th>2</th>\n",
       "    </tr>\n",
       "    <tr>\n",
       "      <th>Is Retweet</th>\n",
       "      <th></th>\n",
       "      <th></th>\n",
       "      <th></th>\n",
       "    </tr>\n",
       "  </thead>\n",
       "  <tbody>\n",
       "    <tr>\n",
       "      <td>0</td>\n",
       "      <td>0.084746</td>\n",
       "      <td>0.021186</td>\n",
       "      <td>0.004237</td>\n",
       "    </tr>\n",
       "    <tr>\n",
       "      <td>1</td>\n",
       "      <td>0.694915</td>\n",
       "      <td>0.190678</td>\n",
       "      <td>0.004237</td>\n",
       "    </tr>\n",
       "  </tbody>\n",
       "</table>\n",
       "</div>"
      ],
      "text/plain": [
       "url_count          0         1         2\n",
       "Is Retweet                              \n",
       "0           0.084746  0.021186  0.004237\n",
       "1           0.694915  0.190678  0.004237"
      ]
     },
     "execution_count": 15,
     "metadata": {},
     "output_type": "execute_result"
    }
   ],
   "source": [
    "# create a new column in the original dataset - 'url_count' to capture total count of urls present in each text\n",
    "df['url_count'] = df['Tweet'].apply(lambda x: len(re.findall(url_regex,x)))\n",
    "\n",
    "# use pandas crosstab to see the distibution of different url counts in each category\n",
    "pd.crosstab(df['Is Retweet'], df['url_count'], normalize=True)"
   ]
  },
  {
   "cell_type": "code",
   "execution_count": 16,
   "metadata": {},
   "outputs": [],
   "source": [
    "# create a custom transformer LengthExtractor to extract length of each sentences\n",
    "from sklearn.base import BaseEstimator, TransformerMixin\n",
    "\n",
    "class LengthExtractor(BaseEstimator, TransformerMixin):\n",
    "\n",
    "    def compute_length(self,text):\n",
    "        sentence_list = word_tokenize(text)\n",
    "        return len(sentence_list)\n",
    "\n",
    "    def fit(self, x,y=None):\n",
    "        return self\n",
    "\n",
    "    def transform(self, X):\n",
    "        X_length = pd.Series(X).apply(self.compute_length)\n",
    "        return pd.DataFrame(X_length)"
   ]
  },
  {
   "cell_type": "code",
   "execution_count": 17,
   "metadata": {},
   "outputs": [],
   "source": [
    "# create a custom transformer UrlCounter to count number of urls in each sentences\n",
    "\n",
    "class UrlCounter(BaseEstimator, TransformerMixin):\n",
    "\n",
    "    def compute_url(self,text):\n",
    "        urls = re.findall(url_regex,text)\n",
    "        return len(urls)\n",
    "\n",
    "    def fit(self, x,y=None):\n",
    "        return self\n",
    "\n",
    "    def transform(self, X):\n",
    "        count_url = pd.Series(X).apply(self.compute_url)\n",
    "        return pd.DataFrame(count_url)"
   ]
  },
  {
   "cell_type": "code",
   "execution_count": 18,
   "metadata": {},
   "outputs": [],
   "source": [
    "# import RandomForestClassifier from sklearn\n",
    "from sklearn.ensemble import RandomForestClassifier\n",
    "\n",
    "# import Pipeline and FeatureUnion from sklearn\n",
    "from sklearn.pipeline import Pipeline, FeatureUnion\n",
    "\n",
    "# import CountVectorizer, TfidfTransformer from sklearn\n",
    "from sklearn.feature_extraction.text import CountVectorizer, TfidfTransformer"
   ]
  },
  {
   "cell_type": "code",
   "execution_count": 19,
   "metadata": {},
   "outputs": [],
   "source": [
    "# create an instance of Pipeline class\n",
    "pipleline = Pipeline([\n",
    "        \n",
    "        \n",
    "    \n",
    "        # create a FeatureUnion pipeline\n",
    "        ('features', FeatureUnion([\n",
    "\n",
    "            # add a pipeline element to extract features using CountVectorizer and TfidfTransformer\n",
    "            \n",
    "            ('text_pipeline', Pipeline([\n",
    "                \n",
    "            ('vector', CountVectorizer(tokenizer=tokenize)),\n",
    "           \n",
    "            ('tfid', TfidfTransformer())\n",
    "            ])),\n",
    "            # add the pipeline element - LengthExtractor to extract lenght of each sentence as feature\n",
    "            \n",
    "            ('text_length', LengthExtractor()),\n",
    "            # add another pipeline element - UrlCounter to extract url counts in each sentence as feature\n",
    "            \n",
    "            ('url_counter', UrlCounter())\n",
    "            \n",
    "            ])),\n",
    "\n",
    "        # use the predictor estimator RandomForestClassifier to train the model\n",
    "        ('clf', RandomForestClassifier())\n",
    "        ])"
   ]
  },
  {
   "cell_type": "code",
   "execution_count": 20,
   "metadata": {},
   "outputs": [],
   "source": [
    "# split the data into train and test sets\n",
    "from sklearn.model_selection import train_test_split\n",
    "X_train, X_test, y_train, y_test = train_test_split(features, target, test_size=0.2, random_state=42)"
   ]
  },
  {
   "cell_type": "code",
   "execution_count": 21,
   "metadata": {},
   "outputs": [
    {
     "data": {
      "text/plain": [
       "Pipeline(steps=[('features',\n",
       "                 FeatureUnion(transformer_list=[('text_pipeline',\n",
       "                                                 Pipeline(steps=[('vector',\n",
       "                                                                  CountVectorizer(tokenizer=<function tokenize at 0x000001EEE4FB40D0>)),\n",
       "                                                                 ('tfid',\n",
       "                                                                  TfidfTransformer())])),\n",
       "                                                ('text_length',\n",
       "                                                 LengthExtractor()),\n",
       "                                                ('url_counter',\n",
       "                                                 UrlCounter())])),\n",
       "                ('clf', RandomForestClassifier())])"
      ]
     },
     "execution_count": 21,
     "metadata": {},
     "output_type": "execute_result"
    }
   ],
   "source": [
    "pipleline.fit(X_train, y_train)"
   ]
  },
  {
   "cell_type": "code",
   "execution_count": 22,
   "metadata": {},
   "outputs": [],
   "source": [
    "# use the method pipeline.predict on X_test data to predict the labels\n",
    "y_pred =pipleline.predict(X_test)"
   ]
  },
  {
   "cell_type": "code",
   "execution_count": 23,
   "metadata": {},
   "outputs": [
    {
     "data": {
      "text/plain": [
       "array([1, 1, 1, 1, 1, 1, 0, 1, 1, 1, 1, 1, 1, 1, 1, 1, 1, 1, 0, 0, 1, 1,\n",
       "       1, 1, 1, 1, 1, 1, 1, 1, 1, 1, 1, 1, 1, 1, 1, 1, 1, 1, 1, 1, 1, 1,\n",
       "       1, 0, 1, 1], dtype=int64)"
      ]
     },
     "execution_count": 23,
     "metadata": {},
     "output_type": "execute_result"
    }
   ],
   "source": [
    "y_pred"
   ]
  },
  {
   "cell_type": "code",
   "execution_count": 24,
   "metadata": {},
   "outputs": [
    {
     "data": {
      "text/plain": [
       "(48,)"
      ]
     },
     "execution_count": 24,
     "metadata": {},
     "output_type": "execute_result"
    }
   ],
   "source": [
    "y_pred.shape"
   ]
  },
  {
   "cell_type": "code",
   "execution_count": 25,
   "metadata": {},
   "outputs": [
    {
     "data": {
      "text/plain": [
       "<matplotlib.axes._subplots.AxesSubplot at 0x1eeebe299b0>"
      ]
     },
     "execution_count": 25,
     "metadata": {},
     "output_type": "execute_result"
    },
    {
     "data": {
      "image/png": "[encoded data removed]",
      "text/plain": [
       "<Figure size 432x288 with 2 Axes>"
      ]
     },
     "metadata": {
      "needs_background": "light"
     },
     "output_type": "display_data"
    }
   ],
   "source": [
    "# create the confustion matrix, import confusion_matrix from sklearn\n",
    "from sklearn.metrics import confusion_matrix\n",
    "\n",
    "# count the number of labels\n",
    "label = np.unique(y_pred)\n",
    "\n",
    "# use sns.heatmap on top of confusion_matrix to show the confusuin matrix\n",
    "sns.heatmap(confusion_matrix(y_test, y_pred), label=label, annot=True, fmt='.0f')"
   ]
  },
  {
   "cell_type": "code",
   "execution_count": 26,
   "metadata": {},
   "outputs": [
    {
     "name": "stdout",
     "output_type": "stream",
     "text": [
      "              precision    recall  f1-score   support\n",
      "\n",
      "           0       1.00      0.80      0.89         5\n",
      "           1       0.98      1.00      0.99        43\n",
      "\n",
      "    accuracy                           0.98        48\n",
      "   macro avg       0.99      0.90      0.94        48\n",
      "weighted avg       0.98      0.98      0.98        48\n",
      "\n"
     ]
    }
   ],
   "source": [
    "# create the classification report, import classification_report from sklearn\n",
    "from sklearn.metrics import classification_report\n",
    "\n",
    "# apply the function classification_report on y_test, y_pred and print it\n",
    "print(classification_report(y_test,y_pred))"
   ]
  },
  {
   "cell_type": "code",
   "execution_count": null,
   "metadata": {},
   "outputs": [],
   "source": [
    "    "
   ]
  }
 ],
 "metadata": {
  "kernelspec": {
   "display_name": "Python 3",
   "language": "python",
   "name": "python3"
  },
  "language_info": {
   "codemirror_mode": {
    "name": "ipython",
    "version": 3
   },
   "file_extension": ".py",
   "mimetype": "text/x-python",
   "name": "python",
   "nbconvert_exporter": "python",
   "pygments_lexer": "ipython3",
   "version": "3.6.5"
  }
 },
 "nbformat": 4,
 "nbformat_minor": 2
}
